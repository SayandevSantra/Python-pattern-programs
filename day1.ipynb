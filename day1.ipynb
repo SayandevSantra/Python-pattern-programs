{
  "nbformat": 4,
  "nbformat_minor": 0,
  "metadata": {
    "colab": {
      "provenance": []
    },
    "kernelspec": {
      "name": "python3",
      "display_name": "Python 3"
    },
    "language_info": {
      "name": "python"
    }
  },
  "cells": [
    {
      "cell_type": "code",
      "execution_count": 10,
      "metadata": {
        "id": "vNB8njC4qXui",
        "colab": {
          "base_uri": "https://localhost:8080/"
        },
        "outputId": "2f368b39-7791-4258-f74e-e3cddb2c7dc0"
      },
      "outputs": [
        {
          "output_type": "stream",
          "name": "stdout",
          "text": [
            "*\n",
            "**\n",
            "***\n",
            "****\n"
          ]
        }
      ],
      "source": [
        "h=4\n",
        "for row in range(1,h+1):\n",
        "  for col in range(1, row+1):\n",
        "   print(\"*\",end='')\n",
        "  print()"
      ]
    },
    {
      "cell_type": "code",
      "source": [
        "h=4\n",
        "for row in range(1,h+1):\n",
        "  for col in range(1, row+1):\n",
        "    print(chr(row+64),end = '')\n",
        "  print()\n"
      ],
      "metadata": {
        "colab": {
          "base_uri": "https://localhost:8080/"
        },
        "id": "0bcQJgh8vnD4",
        "outputId": "8c5165fb-f2ba-44d5-9888-f4cf4a9e0648"
      },
      "execution_count": 13,
      "outputs": [
        {
          "output_type": "stream",
          "name": "stdout",
          "text": [
            "A\n",
            "BB\n",
            "CCC\n",
            "DDDD\n"
          ]
        }
      ]
    },
    {
      "cell_type": "markdown",
      "source": [
        "day 1 exercise"
      ],
      "metadata": {
        "id": "5reM1pFzqpe3"
      }
    },
    {
      "cell_type": "code",
      "source": [
        "h=5\n",
        "for row in range(1,h+1):\n",
        " for col in range (1,h+1):\n",
        "    print(row,end ='')\n",
        " print()"
      ],
      "metadata": {
        "colab": {
          "base_uri": "https://localhost:8080/"
        },
        "id": "KSpGEVBFzwVT",
        "outputId": "409bc72f-4561-4aba-bd84-e58f5e695c91"
      },
      "execution_count": 9,
      "outputs": [
        {
          "output_type": "stream",
          "name": "stdout",
          "text": [
            "11111\n",
            "22222\n",
            "33333\n",
            "44444\n",
            "55555\n"
          ]
        }
      ]
    },
    {
      "cell_type": "code",
      "source": [
        "h=5\n",
        "for row in range(1,h+1):\n",
        "  for col in range(1,h+1):\n",
        "    print(col,end='')\n",
        "  print()"
      ],
      "metadata": {
        "colab": {
          "base_uri": "https://localhost:8080/"
        },
        "id": "mFII8OIVrZl2",
        "outputId": "69bb0b0e-8a28-4ea1-f2eb-e609451baa28"
      },
      "execution_count": 10,
      "outputs": [
        {
          "output_type": "stream",
          "name": "stdout",
          "text": [
            "12345\n",
            "12345\n",
            "12345\n",
            "12345\n",
            "12345\n"
          ]
        }
      ]
    },
    {
      "cell_type": "code",
      "source": [
        "h=5\n",
        "for row in range(1,h+1):\n",
        "  for col in range(1,h+1):\n",
        "    print(chr(row+64),end='')\n",
        "  print()"
      ],
      "metadata": {
        "colab": {
          "base_uri": "https://localhost:8080/"
        },
        "id": "OAKkw_t4rt1V",
        "outputId": "28a55e9c-de91-40d2-c220-f582833905ef"
      },
      "execution_count": 12,
      "outputs": [
        {
          "output_type": "stream",
          "name": "stdout",
          "text": [
            "AAAAA\n",
            "BBBBB\n",
            "CCCCC\n",
            "DDDDD\n",
            "EEEEE\n"
          ]
        }
      ]
    },
    {
      "cell_type": "code",
      "source": [
        "h=5\n",
        "for row in range(1,h+1):\n",
        "  for col in range(1,h+1):\n",
        "    print(chr(col+64),end='')\n",
        "  print()"
      ],
      "metadata": {
        "colab": {
          "base_uri": "https://localhost:8080/"
        },
        "id": "2tL_DFyXsCNX",
        "outputId": "0bb27c13-19d6-421f-e391-336d3767228d"
      },
      "execution_count": 13,
      "outputs": [
        {
          "output_type": "stream",
          "name": "stdout",
          "text": [
            "ABCDE\n",
            "ABCDE\n",
            "ABCDE\n",
            "ABCDE\n",
            "ABCDE\n"
          ]
        }
      ]
    },
    {
      "cell_type": "code",
      "source": [
        "h=5\n",
        "for row in range(h,0,-1):\n",
        "  for col in range(h,0,-1):\n",
        "    print(chr(col+64),end='')\n",
        "  print()"
      ],
      "metadata": {
        "colab": {
          "base_uri": "https://localhost:8080/"
        },
        "id": "xwTK0PMcsVrC",
        "outputId": "c1198fae-48ff-47cc-94f7-f55fdf9bfaae"
      },
      "execution_count": 15,
      "outputs": [
        {
          "output_type": "stream",
          "name": "stdout",
          "text": [
            "EDCBA\n",
            "EDCBA\n",
            "EDCBA\n",
            "EDCBA\n",
            "EDCBA\n"
          ]
        }
      ]
    },
    {
      "cell_type": "code",
      "source": [
        "h=5\n",
        "for row in range(h,0,-1):\n",
        "  for col in range(h,0,-1):\n",
        "    print(chr(row+64),end='')\n",
        "  print()"
      ],
      "metadata": {
        "colab": {
          "base_uri": "https://localhost:8080/"
        },
        "id": "6Bh5aR5YswiQ",
        "outputId": "9e5990c1-1f05-404e-eccd-5405b5cc42f6"
      },
      "execution_count": 18,
      "outputs": [
        {
          "output_type": "stream",
          "name": "stdout",
          "text": [
            "EEEEE\n",
            "DDDDD\n",
            "CCCCC\n",
            "BBBBB\n",
            "AAAAA\n"
          ]
        }
      ]
    },
    {
      "cell_type": "code",
      "source": [
        "h=5\n",
        "for row in range(h,0,-1):\n",
        "  for col in range(h,0,-1):\n",
        "    print(row,end='')\n",
        "  print()"
      ],
      "metadata": {
        "colab": {
          "base_uri": "https://localhost:8080/"
        },
        "id": "oG1Ae7fJtV9C",
        "outputId": "55e458c0-5865-4a38-b403-77e2d254e328"
      },
      "execution_count": 20,
      "outputs": [
        {
          "output_type": "stream",
          "name": "stdout",
          "text": [
            "55555\n",
            "44444\n",
            "33333\n",
            "22222\n",
            "11111\n"
          ]
        }
      ]
    },
    {
      "cell_type": "code",
      "source": [
        "h=5\n",
        "for row in range(h,0,-1):\n",
        "  for col in range(h,0,-1):\n",
        "    print(col,end='')\n",
        "  print()"
      ],
      "metadata": {
        "colab": {
          "base_uri": "https://localhost:8080/"
        },
        "id": "hR-rOYurtqWw",
        "outputId": "2d83c55a-507b-42b9-a3d0-19f2bbb27814"
      },
      "execution_count": 21,
      "outputs": [
        {
          "output_type": "stream",
          "name": "stdout",
          "text": [
            "54321\n",
            "54321\n",
            "54321\n",
            "54321\n",
            "54321\n"
          ]
        }
      ]
    },
    {
      "cell_type": "markdown",
      "source": [
        "day 2 exercise"
      ],
      "metadata": {
        "id": "kX7tz2osuD3b"
      }
    },
    {
      "cell_type": "code",
      "source": [
        "h=5\n",
        "for row in range(1,h+1):\n",
        "  for col in range(1,row+1):\n",
        "    print(row,end='')\n",
        "  print()"
      ],
      "metadata": {
        "colab": {
          "base_uri": "https://localhost:8080/"
        },
        "id": "6BoGlMg-t-sR",
        "outputId": "37a61aa4-bdac-4b28-9a46-0382c963397e"
      },
      "execution_count": 22,
      "outputs": [
        {
          "output_type": "stream",
          "name": "stdout",
          "text": [
            "1\n",
            "22\n",
            "333\n",
            "4444\n",
            "55555\n"
          ]
        }
      ]
    },
    {
      "cell_type": "code",
      "source": [
        "h=5\n",
        "for row in range(1,h+1):\n",
        "  for col in range(1,row+1):\n",
        "    print(col,end='')\n",
        "  print()"
      ],
      "metadata": {
        "colab": {
          "base_uri": "https://localhost:8080/"
        },
        "id": "yBvPcCS1wdgU",
        "outputId": "9e1ad0d5-7d96-449c-9aff-496032ab7ddd"
      },
      "execution_count": 23,
      "outputs": [
        {
          "output_type": "stream",
          "name": "stdout",
          "text": [
            "1\n",
            "12\n",
            "123\n",
            "1234\n",
            "12345\n"
          ]
        }
      ]
    },
    {
      "cell_type": "code",
      "source": [
        "h=5\n",
        "for row in range(1,h+1):\n",
        "  for col in range(1,row+1):\n",
        "    print(chr(row+64),end='')\n",
        "  print()\n"
      ],
      "metadata": {
        "colab": {
          "base_uri": "https://localhost:8080/"
        },
        "id": "GMgpSz56wzse",
        "outputId": "9f7d77ec-afc8-4f2a-a825-6bdf02cb5948"
      },
      "execution_count": 30,
      "outputs": [
        {
          "output_type": "stream",
          "name": "stdout",
          "text": [
            "A\n",
            "BB\n",
            "CCC\n",
            "DDDD\n",
            "EEEEE\n"
          ]
        }
      ]
    },
    {
      "cell_type": "code",
      "source": [
        "h=5\n",
        "for row in range(1,h+1):\n",
        "  for col in range(1,row+1):\n",
        "    print(chr(col+64),end='')\n",
        "  print()"
      ],
      "metadata": {
        "colab": {
          "base_uri": "https://localhost:8080/"
        },
        "id": "LTlohQDixglV",
        "outputId": "51023fb2-fa79-4c6a-9bdd-b6e6511e14d0"
      },
      "execution_count": 31,
      "outputs": [
        {
          "output_type": "stream",
          "name": "stdout",
          "text": [
            "A\n",
            "AB\n",
            "ABC\n",
            "ABCD\n",
            "ABCDE\n"
          ]
        }
      ]
    },
    {
      "cell_type": "code",
      "source": [
        "h=5\n",
        "for row in range(h,0,-1):\n",
        "  for col in range(h,0,-1):\n",
        "    print(row+64,end='')\n",
        "  print()"
      ],
      "metadata": {
        "colab": {
          "base_uri": "https://localhost:8080/"
        },
        "id": "r41-PH5rxx1T",
        "outputId": "f92267df-d512-4f28-b5cb-15aff7391587"
      },
      "execution_count": 33,
      "outputs": [
        {
          "output_type": "stream",
          "name": "stdout",
          "text": [
            "6969696969\n",
            "6868686868\n",
            "6767676767\n",
            "6666666666\n",
            "6565656565\n"
          ]
        }
      ]
    },
    {
      "cell_type": "code",
      "source": [
        "h=5\n",
        "for row in range(h,0,-1):\n",
        "  for col in range(row,0,-1):\n",
        "    print(row+64,end='')\n",
        "  print()\n"
      ],
      "metadata": {
        "colab": {
          "base_uri": "https://localhost:8080/"
        },
        "id": "AG_ZVySDyDwF",
        "outputId": "c8303752-f860-4d95-8ad8-361a20797331"
      },
      "execution_count": 34,
      "outputs": [
        {
          "output_type": "stream",
          "name": "stdout",
          "text": [
            "6969696969\n",
            "68686868\n",
            "676767\n",
            "6666\n",
            "65\n"
          ]
        }
      ]
    },
    {
      "cell_type": "code",
      "source": [
        "h=5\n",
        "for row in range(h,0,-1):\n",
        "  for col in range(row,0,-1):\n",
        "    print(row,end='')\n",
        "  print()"
      ],
      "metadata": {
        "colab": {
          "base_uri": "https://localhost:8080/"
        },
        "id": "CY_SxKqC3Cp-",
        "outputId": "4476ff62-1e3f-4f9a-8b38-3e992a2560cc"
      },
      "execution_count": 36,
      "outputs": [
        {
          "output_type": "stream",
          "name": "stdout",
          "text": [
            "55555\n",
            "4444\n",
            "333\n",
            "22\n",
            "1\n"
          ]
        }
      ]
    },
    {
      "cell_type": "code",
      "source": [
        "h=6\n",
        "for row in range(h,0,-1):\n",
        "  for col in range(row,0,-1):\n",
        "    print(col,end='')\n",
        "  print()"
      ],
      "metadata": {
        "colab": {
          "base_uri": "https://localhost:8080/"
        },
        "id": "bkZ288uP_4vL",
        "outputId": "b704f77f-9220-4489-ddb7-e7753a9d676f"
      },
      "execution_count": 42,
      "outputs": [
        {
          "output_type": "stream",
          "name": "stdout",
          "text": [
            "654321\n",
            "54321\n",
            "4321\n",
            "321\n",
            "21\n",
            "1\n"
          ]
        }
      ]
    },
    {
      "cell_type": "code",
      "source": [
        "h=5\n",
        "for row in range(h,0,-1):\n",
        "  for col in range(row,0,-1):\n",
        "    print(\"@#&%\",end='')\n",
        "  print()"
      ],
      "metadata": {
        "colab": {
          "base_uri": "https://localhost:8080/"
        },
        "id": "Jwo8zxJAAmho",
        "outputId": "9abecd11-cca6-46be-c0fc-4f218b0df467"
      },
      "execution_count": 44,
      "outputs": [
        {
          "output_type": "stream",
          "name": "stdout",
          "text": [
            "@#&%@#&%@#&%@#&%@#&%\n",
            "@#&%@#&%@#&%@#&%\n",
            "@#&%@#&%@#&%\n",
            "@#&%@#&%\n",
            "@#&%\n"
          ]
        }
      ]
    },
    {
      "cell_type": "code",
      "source": [
        "h=6\n",
        "for row in range(h,0,-1):\n",
        "  for col in range(row,0,-1):\n",
        "    print(chr(row+64),end='')\n",
        "  print()"
      ],
      "metadata": {
        "colab": {
          "base_uri": "https://localhost:8080/"
        },
        "id": "xIXJ7LvrWkil",
        "outputId": "070c73d9-581d-41b2-fa7a-ef1849f66945"
      },
      "execution_count": 2,
      "outputs": [
        {
          "output_type": "stream",
          "name": "stdout",
          "text": [
            "FFFFFF\n",
            "EEEEE\n",
            "DDDD\n",
            "CCC\n",
            "BB\n",
            "A\n"
          ]
        }
      ]
    },
    {
      "cell_type": "code",
      "source": [
        "h=6\n",
        "for row in range(h,0,-1):\n",
        "  for col in range(row,0,-1):\n",
        "    print(chr(col+64),end='')\n",
        "  print()"
      ],
      "metadata": {
        "colab": {
          "base_uri": "https://localhost:8080/"
        },
        "id": "PlF-Jf6hW8Zh",
        "outputId": "117e1c07-a136-4f5a-8b35-25fe1fd189a8"
      },
      "execution_count": 3,
      "outputs": [
        {
          "output_type": "stream",
          "name": "stdout",
          "text": [
            "FEDCBA\n",
            "EDCBA\n",
            "DCBA\n",
            "CBA\n",
            "BA\n",
            "A\n"
          ]
        }
      ]
    },
    {
      "cell_type": "code",
      "source": [
        "h=6\n",
        "for row in range(h,0,-1):\n",
        "  for col in range(1,row+1):\n",
        "    print(chr(col+64),end='')\n",
        "  print()"
      ],
      "metadata": {
        "colab": {
          "base_uri": "https://localhost:8080/"
        },
        "id": "SnK3Gcp8X0MN",
        "outputId": "63c25919-5884-4d51-c60f-35ec505724a3"
      },
      "execution_count": 4,
      "outputs": [
        {
          "output_type": "stream",
          "name": "stdout",
          "text": [
            "ABCDEF\n",
            "ABCDE\n",
            "ABCD\n",
            "ABC\n",
            "AB\n",
            "A\n"
          ]
        }
      ]
    },
    {
      "cell_type": "code",
      "source": [
        "for row in range(h,0,-1):\n",
        "  for col in range(1,row+1):\n",
        "    print(chr(col+64),end='')\n",
        "  print()\n",
        "for row in range(2,h+1):\n",
        "      for col in range(1,row+1):\n",
        "        print(chr(col+64),end='')\n",
        "      print()"
      ],
      "metadata": {
        "colab": {
          "base_uri": "https://localhost:8080/"
        },
        "id": "9Zf2NqqFYVW7",
        "outputId": "72981a6a-0dac-45cf-809c-bd9ff5fd20a8"
      },
      "execution_count": 9,
      "outputs": [
        {
          "output_type": "stream",
          "name": "stdout",
          "text": [
            "ABCDEF\n",
            "ABCDE\n",
            "ABCD\n",
            "ABC\n",
            "AB\n",
            "A\n",
            "AB\n",
            "ABC\n",
            "ABCD\n",
            "ABCDE\n",
            "ABCDEF\n"
          ]
        }
      ]
    }
  ]
}